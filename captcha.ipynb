{
 "cells": [
  {
   "cell_type": "code",
   "execution_count": 17,
   "metadata": {
    "ExecuteTime": {
     "end_time": "2019-02-04T05:17:00.810930Z",
     "start_time": "2019-02-04T05:17:00.806705Z"
    }
   },
   "outputs": [],
   "source": [
    "from PIL import Image, ImageDraw, ImageFont\n",
    "import random \n",
    "import string\n",
    "import pytesseract\n",
    "from subprocess import check_output\n",
    "import tkinter as tk\n",
    "import tkinter.messagebox as messagebox\n",
    "import tkinter.simpledialog as simpledialog\n",
    "import tkinter.filedialog as filedialog"
   ]
  },
  {
   "cell_type": "code",
   "execution_count": 18,
   "metadata": {
    "ExecuteTime": {
     "end_time": "2019-02-04T05:17:02.816184Z",
     "start_time": "2019-02-04T05:17:02.812672Z"
    }
   },
   "outputs": [],
   "source": [
    "class CustomException(Exception): \n",
    "    pass"
   ]
  },
  {
   "cell_type": "code",
   "execution_count": 19,
   "metadata": {
    "ExecuteTime": {
     "end_time": "2019-02-04T05:17:03.901953Z",
     "start_time": "2019-02-04T05:17:03.785718Z"
    },
    "code_folding": []
   },
   "outputs": [],
   "source": [
    "class Captcha(object):\n",
    "    def __init__(self, length=5, size=(200, 100), fontsize=36, random_text=None, random_bgcolor=None):\n",
    "        self.size = size \n",
    "        self.text = \"CAPTCHA\"\n",
    "        self.fontsize = fontsize \n",
    "        self.bgcolor = 255 \n",
    "        self.length = length\n",
    "        \n",
    "        self.image = None  # current captcha image\n",
    "        \n",
    "        if random_text: \n",
    "            self.text = self.random_text()\n",
    "            \n",
    "        if not self.text: \n",
    "            raise CustomException(\"Field text must not be empty.\")\n",
    "            \n",
    "        if not self.size: \n",
    "            raise CustomException(\"Size must not be empty.\")\n",
    "            \n",
    "        if not self.fontsize: \n",
    "            raise CustomException(\"Font size must be defined.\")\n",
    "            \n",
    "        if random_bgcolor: \n",
    "            self.bgcolor = self.random_color()\n",
    "    \n",
    "    def center_coords(self, draw, font): \n",
    "        width, height = draw.textsize(self.text, font) \n",
    "        xy = (self.size[0] - width) / 2., (self.size[1] - height) / 2. \n",
    "        return xy\n",
    "    \n",
    "    def add_noise_dots(self, draw):\n",
    "        size = self.image.size\n",
    "        for _ in range(int(size[0] * size[1] * 0.1)):\n",
    "            draw.point((random.randint(0, size[0]),\n",
    "                        random.randint(0, size[1])),\n",
    "                       fill=\"white\")\n",
    "        return draw\n",
    "    \n",
    "    def add_noise_lines(self, draw):\n",
    "        size = self.image.size\n",
    "        for _ in range(8):\n",
    "            width = random.randint(1, 2)\n",
    "            start = (0, random.randint(0, size[1] - 1))\n",
    "            end = (size[0], random.randint(0,size[1]-1))\n",
    "            draw.line([start, end], fill=\"white\", width=width)\n",
    "        return draw\n",
    "          \n",
    "    def add_noise_arc(self, draw):\n",
    "        size = self.image.size\n",
    "        for _ in range(8):\n",
    "            start = (-50, -50)\n",
    "            end = (size[0] + 10, random.randint(0, size[1]+10))\n",
    "            draw.arc(start + end, 0, 360, fill=\"white\")\n",
    "        return draw\n",
    "\n",
    "    def get_captcha(self, size=None, text=None, bgcolor=None):\n",
    "        if text is not None:\n",
    "            self.text = text\n",
    "                     \n",
    "        if size is not None:\n",
    "            self.size = size\n",
    "                     \n",
    "        if bgcolor is not None:\n",
    "            self.bgcolor = bgcolor\n",
    "                     \n",
    "        self.image = Image.new('RGB', self.size, self.bgcolor)\n",
    "        font = ImageFont.truetype('fonts/Vera.ttf', self.fontsize) \n",
    "        draw = ImageDraw.Draw(self.image)\n",
    "        xy = self.center_coords(draw, font) \n",
    "        draw.text(xy=xy, text=self.text, font=font)\n",
    "                     \n",
    "        # Add some dot noise \n",
    "        draw = self.add_noise_dots(draw)\n",
    "                     \n",
    "        # Add some random lines \n",
    "        draw = self.add_noise_lines(draw)\n",
    "        \n",
    "        # Add some random arc\n",
    "        draw = self.add_noise_arc(draw)\n",
    "                     \n",
    "        self.image.save('new_image.gif')\n",
    "        return self.text\n",
    "                     \n",
    "    def random_text(self):\n",
    "        letters = string.ascii_lowercase + string.ascii_uppercase\n",
    "        random_text = \"\"\n",
    "        for _ in range(self.length):\n",
    "            random_text += random.choice(letters)\n",
    "\n",
    "        return random_text\n",
    "     \n",
    "    def random_color(self):\n",
    "        r = random.randint(0, 255)\n",
    "        g = random.randint(0, 255)\n",
    "        b = random.randint(0, 255)\n",
    "        return (r, g, b)"
   ]
  },
  {
   "cell_type": "code",
   "execution_count": 20,
   "metadata": {
    "ExecuteTime": {
     "end_time": "2019-02-04T05:17:04.699230Z",
     "start_time": "2019-02-04T05:17:04.693946Z"
    }
   },
   "outputs": [],
   "source": [
    "class decryptCaptcha(object):\n",
    "    def resolve(self, path):\n",
    "        print(\"Resampling the Image\")\n",
    "        check_output(['convert', path, '-resample', '600', path])\n",
    "        return pytesseract.image_to_string(Image.open(path))\n",
    "\n",
    "    def decodedText(self):\n",
    "        path = 'new_image.gif'\n",
    "        print('Resolving Captcha')\n",
    "        captcha_text = self.resolve(path)\n",
    "        if captcha_text:\n",
    "            return captcha_text\n",
    "        else:\n",
    "            return 'Text can not be extracted'"
   ]
  },
  {
   "cell_type": "code",
   "execution_count": 21,
   "metadata": {
    "ExecuteTime": {
     "end_time": "2019-02-04T05:17:56.797082Z",
     "start_time": "2019-02-04T05:17:05.659392Z"
    }
   },
   "outputs": [
    {
     "name": "stdout",
     "output_type": "stream",
     "text": [
      "Resolving Captcha\n",
      "Resampling the Image\n"
     ]
    }
   ],
   "source": [
    "originalText = ''\n",
    "    \n",
    "def generateCaptcha():\n",
    "    global originalText\n",
    "    \n",
    "    sc = Captcha(length=7, fontsize=36, random_text=True, random_bgcolor=True)\n",
    "    originalText = sc.get_captcha()\n",
    "    updateCaptcha()\n",
    "    \n",
    "def updateCaptcha():\n",
    "    img2 = tk.PhotoImage(file='new_image.gif')\n",
    "    captcha.configure(image=img2)\n",
    "    captcha.image = img2\n",
    "    \n",
    "def decodeCaptcha():\n",
    "    obj = decryptCaptcha()\n",
    "    decode = obj.decodedText()\n",
    "    messagebox.showinfo(\"Decoded Captcha\", decode)\n",
    "\n",
    "def verifyCaptcha():\n",
    "    global originalText\n",
    "    \n",
    "    answer = simpledialog.askstring(\"Input\", \"Enter captcha text?\",\n",
    "                                    parent=application_window)\n",
    "    if answer is not None:\n",
    "        if(originalText == answer):\n",
    "            messagebox.showinfo('STATUS', 'Verification successful')\n",
    "        else:\n",
    "            messagebox.showerror('STATUS', 'Verification un-successful \\nPlease try again')\n",
    "    else:\n",
    "        messagebox.showwarning('STATUS', 'Please enter CAPTCHA text')\n",
    "    \n",
    "application_window = tk.Tk()\n",
    "\n",
    "leftframe = tk.Frame(application_window, width = 1, padx=20, pady=20) \n",
    "leftframe.pack(side = tk.LEFT)\n",
    "\n",
    "rightframe = tk.Frame(application_window, width=400, height=600) \n",
    "rightframe.pack(side = tk.RIGHT)\n",
    "\n",
    "getCaptcha = tk.Button(leftframe, text=\"Generate Captcha\", fg=\"black\", height = 2, width = 17, \n",
    "                       command = generateCaptcha)\n",
    "getCaptcha.grid(row=1, column=0)\n",
    "\n",
    "decodeCaptcha = tk.Button(leftframe, text=\"Decode Captcha\", fg=\"black\", height = 2, width = 17, \n",
    "                         command = decodeCaptcha)\n",
    "decodeCaptcha.grid(row=2, column=0)\n",
    "\n",
    "verifyCaptcha = tk.Button(leftframe, text=\"Verify Captcha\", fg=\"black\", height = 2, width = 17, \n",
    "                         command = verifyCaptcha)\n",
    "verifyCaptcha.grid(row=3, column=0)\n",
    "\n",
    "img = tk.PhotoImage(file='new_image.gif')\n",
    "captcha = tk.Label(rightframe, image=img, width = 250, height = 150)\n",
    "captcha.grid(row=1, column=1)\n",
    "\n",
    "application_window.mainloop()"
   ]
  }
 ],
 "metadata": {
  "kernelspec": {
   "display_name": "Python 3",
   "language": "python",
   "name": "python3"
  },
  "language_info": {
   "codemirror_mode": {
    "name": "ipython",
    "version": 3
   },
   "file_extension": ".py",
   "mimetype": "text/x-python",
   "name": "python",
   "nbconvert_exporter": "python",
   "pygments_lexer": "ipython3",
   "version": "3.6.8"
  },
  "toc": {
   "base_numbering": 1,
   "nav_menu": {},
   "number_sections": true,
   "sideBar": true,
   "skip_h1_title": false,
   "title_cell": "Table of Contents",
   "title_sidebar": "Contents",
   "toc_cell": false,
   "toc_position": {},
   "toc_section_display": true,
   "toc_window_display": false
  },
  "varInspector": {
   "cols": {
    "lenName": 16,
    "lenType": 16,
    "lenVar": 40
   },
   "kernels_config": {
    "python": {
     "delete_cmd_postfix": "",
     "delete_cmd_prefix": "del ",
     "library": "var_list.py",
     "varRefreshCmd": "print(var_dic_list())"
    },
    "r": {
     "delete_cmd_postfix": ") ",
     "delete_cmd_prefix": "rm(",
     "library": "var_list.r",
     "varRefreshCmd": "cat(var_dic_list()) "
    }
   },
   "types_to_exclude": [
    "module",
    "function",
    "builtin_function_or_method",
    "instance",
    "_Feature"
   ],
   "window_display": false
  }
 },
 "nbformat": 4,
 "nbformat_minor": 2
}
